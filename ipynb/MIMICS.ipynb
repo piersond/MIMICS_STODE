{
 "cells": [
  {
   "cell_type": "code",
   "execution_count": 1,
   "metadata": {},
   "outputs": [],
   "source": [
    "import numpy as np\n",
    "import pandas as pd\n",
    "import matplotlib.pyplot as plt\n",
    "import time\n",
    "import os\n",
    "\n",
    "os.chdir('c:/github/pyMIMICS_STODE')"
   ]
  },
  {
   "cell_type": "code",
   "execution_count": 2,
   "metadata": {},
   "outputs": [],
   "source": [
    "df = pd.read_csv('Data/RCrk_SOC_all_raw.csv', delimiter=',')"
   ]
  },
  {
   "cell_type": "code",
   "execution_count": 3,
   "metadata": {},
   "outputs": [
    {
     "name": "stdout",
     "output_type": "stream",
     "text": [
      "[0.20250366 0.97113286 0.00582021 0.01535533 0.29644523 1.09936811\n",
      " 0.73729047]\n"
     ]
    }
   ],
   "source": [
    "from RXEQ import RXEQ\n",
    "from MIMICS_stode_ftn_ts import MIMICS_TS\n",
    "\n",
    "row = df.iloc[[0]].reset_index()\n",
    "MIMout = MIMICS_TS(row, multi=False)\n",
    "print(MIMout[len(MIMout)-1,:])"
   ]
  },
  {
   "cell_type": "code",
   "execution_count": 4,
   "metadata": {},
   "outputs": [
    {
     "data": {
      "image/png": "[encoded data removed]",
      "text/plain": [
       "<Figure size 432x288 with 1 Axes>"
      ]
     },
     "metadata": {
      "needs_background": "light"
     },
     "output_type": "display_data"
    }
   ],
   "source": [
    "    t = np.arange(1, 1e07, 100000) \n",
    "\n",
    "    plt.plot(t, MIMout[:, 0], 'b', label='LITm')\n",
    "    plt.plot(t, MIMout[:, 1], 'g', label='LITs')\n",
    "    plt.plot(t, MIMout[:, 2], 'r', label='MICr')\n",
    "    plt.plot(t, MIMout[:, 3], 'c', label='MICK')\n",
    "    plt.plot(t, MIMout[:, 4], 'm', label='SOMp')\n",
    "    plt.plot(t, MIMout[:, 5], 'y', label='SOMc')\n",
    "    plt.plot(t, MIMout[:, 6], 'k', label='SOMa')\n",
    "    plt.legend(loc='best')\n",
    "    plt.xlabel('t')\n",
    "    plt.ylim([0, 5])\n",
    "    plt.grid()\n",
    "    plt.show()"
   ]
  },
  {
   "cell_type": "code",
   "execution_count": 5,
   "metadata": {},
   "outputs": [
    {
     "name": "stdout",
     "output_type": "stream",
     "text": [
      "--- 20.396671772003174 seconds ---\n",
      "0      [0.21213158748436461, 0.916704585628417, 0.005...\n",
      "1      [0.24720795321611114, 1.1811974607804834, 0.03...\n",
      "2      [0.2499500103678727, 1.1880723626629928, 0.033...\n",
      "3      [0.25351104240544065, 1.1998998959813665, 0.03...\n",
      "4      [0.26467434383144955, 1.240173385953109, 0.038...\n",
      "                             ...                        \n",
      "331    [0.7467968218198565, 3.1540476540170372, 0.013...\n",
      "332    [0.7433026079651274, 3.140970557605273, 0.0104...\n",
      "333    [0.6987636234199037, 3.057491017674336, 0.0053...\n",
      "334    [0.8497316982531327, 3.4770897302254693, 0.014...\n",
      "335    [0.8968740536250369, 3.6084102697181843, 0.011...\n",
      "Length: 336, dtype: object\n"
     ]
    }
   ],
   "source": [
    "from MIMICS_stode_ftn_ss import MIMICS_SS\n",
    "\n",
    "start_time = time.time()\n",
    "\n",
    "MIMout_set = df.apply(lambda row: MIMICS_SS(row, multi=True), axis=1)\n",
    "\n",
    "print(\"--- %s seconds ---\" % (time.time() - start_time)) \n",
    "print(MIMout_set)\n",
    "\n",
    "# Output key:\n",
    "# LITm, LITs, MICr, MICK, SOMp, SOMc, SOMa\n",
    "\n",
    "# Requires ~21 sec on laptop to run all 335 RCrk sites"
   ]
  }
 ],
 "metadata": {
  "interpreter": {
   "hash": "e09ed8487fc16510ed9002ecdc8df5401ec2769143fd866bd7bf4fcef3d85c6f"
  },
  "kernelspec": {
   "display_name": "Python 3.7.3 32-bit",
   "language": "python",
   "name": "python3"
  },
  "language_info": {
   "codemirror_mode": {
    "name": "ipython",
    "version": 3
   },
   "file_extension": ".py",
   "mimetype": "text/x-python",
   "name": "python",
   "nbconvert_exporter": "python",
   "pygments_lexer": "ipython3",
   "version": "3.7.3"
  },
  "orig_nbformat": 4
 },
 "nbformat": 4,
 "nbformat_minor": 2
}
